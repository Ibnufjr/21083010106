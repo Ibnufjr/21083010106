{
 "cells": [
  {
   "cell_type": "markdown",
   "id": "434cb15c-a9ff-4d1f-aef1-c4eb9d1ed2fb",
   "metadata": {},
   "source": [
    "### Mohamad Ibnu Fajar Maulana\n",
    "### 21083010106\n",
    "### Data Wrangling C"
   ]
  },
  {
   "cell_type": "code",
   "execution_count": 1,
   "id": "bd7d1199-9458-4ef8-85ac-2c41e458c62c",
   "metadata": {},
   "outputs": [],
   "source": [
    "import sqlite3\n",
    "\n",
    "# membuat koneksi ke database\n",
    "conn = sqlite3.connect('Shoping.db')\n",
    "\n",
    "# membuat cursor\n",
    "c = conn.cursor()\n",
    "\n",
    "# membuat tabel pertama\n",
    "c.execute('''CREATE TABLE IF NOT EXISTS customers\n",
    "             (id INTEGER PRIMARY KEY,\n",
    "              name TEXT,\n",
    "              email TEXT,\n",
    "              age INTEGER,\n",
    "              gender TEXT)''')  \n",
    "\n",
    "# menambahkan data ke tabel customers\n",
    "data_customers = [(1, 'Ibnu', 'Ibnu@example.com', 25, 'Male'),  \n",
    "                  (2, 'Amel', 'Amel@example.com', 30, 'Female'),\n",
    "                  (3, 'Fajar', 'Fajar@example.com', 20, 'Male')]\n",
    "c.executemany('INSERT INTO customers VALUES (?, ?, ?, ?, ?)', data_customers)\n",
    "\n",
    "# membuat tabel kedua\n",
    "c.execute('''CREATE TABLE IF NOT EXISTS orders\n",
    "             (id INTEGER PRIMARY KEY,\n",
    "              customer_id INTEGER,\n",
    "              product TEXT,\n",
    "              quantity INTEGER,\n",
    "              FOREIGN KEY(customer_id) REFERENCES customers(id))''')\n",
    "\n",
    "# menambahkan data ke tabel orders\n",
    "data_orders = [(1, 1, 'Sepatu', 2),\n",
    "               (2, 1, 'Sendal', 1),\n",
    "               (3, 2, 'Celana Panjang', 3)]\n",
    "c.executemany('INSERT INTO orders VALUES (?, ?, ?, ?)', data_orders)\n",
    "\n",
    "# commit perubahan dan menutup koneksi\n",
    "conn.commit()\n",
    "conn.close()\n"
   ]
  },
  {
   "cell_type": "code",
   "execution_count": 2,
   "id": "37f170ce-d6af-4e4c-80fc-9c26dce10eca",
   "metadata": {},
   "outputs": [
    {
     "name": "stdout",
     "output_type": "stream",
     "text": [
      "[('Celana Panjang', 3), ('Sendal', 1), ('Sepatu', 2)]\n"
     ]
    }
   ],
   "source": [
    "# membuat koneksi ke database\n",
    "conn = sqlite3.connect('Shoping.db')\n",
    "c = conn.cursor()\n",
    "\n",
    "# melakukan query dengan group by\n",
    "c.execute('''SELECT product, SUM(quantity)\n",
    "             FROM orders\n",
    "             GROUP BY product''')\n",
    "data = c.fetchall()\n",
    "print(data)\n",
    "\n",
    "# menutup koneksi\n",
    "conn.close()\n"
   ]
  },
  {
   "cell_type": "code",
   "execution_count": 5,
   "id": "bb964f69-5c3e-4724-b2d8-e42307dd7ca1",
   "metadata": {},
   "outputs": [
    {
     "name": "stdout",
     "output_type": "stream",
     "text": [
      "[('Ibnu', 'Sepatu', 2), ('Ibnu', 'Sendal', 1), ('Amel', 'Celana Panjang', 3)]\n"
     ]
    }
   ],
   "source": [
    "# membuat koneksi ke database\n",
    "conn = sqlite3.connect('Shoping.db')\n",
    "c = conn.cursor()\n",
    "\n",
    "# melakukan join tabel\n",
    "c.execute('''SELECT customers.name, orders.product, orders.quantity\n",
    "             FROM customers\n",
    "             JOIN orders ON customers.id = orders.customer_id''')\n",
    "data = c.fetchall()\n",
    "print(data)\n",
    "\n",
    "# menutup koneksi\n",
    "conn.close()\n"
   ]
  },
  {
   "cell_type": "code",
   "execution_count": null,
   "id": "bf40c4c9-1309-4356-b648-14ead7eaf10b",
   "metadata": {},
   "outputs": [],
   "source": []
  }
 ],
 "metadata": {
  "kernelspec": {
   "display_name": "Python 3 (ipykernel)",
   "language": "python",
   "name": "python3"
  },
  "language_info": {
   "codemirror_mode": {
    "name": "ipython",
    "version": 3
   },
   "file_extension": ".py",
   "mimetype": "text/x-python",
   "name": "python",
   "nbconvert_exporter": "python",
   "pygments_lexer": "ipython3",
   "version": "3.9.12"
  }
 },
 "nbformat": 4,
 "nbformat_minor": 5
}
