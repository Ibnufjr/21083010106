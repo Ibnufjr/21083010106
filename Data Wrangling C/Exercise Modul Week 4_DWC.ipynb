{
 "cells": [
  {
   "cell_type": "markdown",
   "id": "9cb1f1c1-7f14-489d-9fda-2466acd52145",
   "metadata": {},
   "source": [
    "### Mohamad Ibnu Fajar Maulana\n",
    "### 21083010106\n",
    "### DATA WRANGLING C"
   ]
  },
  {
   "cell_type": "markdown",
   "id": "8e412829-d3a7-4190-a3b7-6140602ff774",
   "metadata": {
    "tags": []
   },
   "source": [
    "### SOAL\n",
    "##### Dengan menggunakan data kedua matriks (matriks A dan B) yang degenerate acak pada Array Operations, lakukan penambahan, perkalian, pembagian, 3*A-2*B, tambahkan 100 pada  scalar matriks A, A dipangkatkan 3, dan akar pangkat dari A"
   ]
  },
  {
   "cell_type": "code",
   "execution_count": 1,
   "id": "9c0187c1-fe28-4a67-a692-93b53951a0b3",
   "metadata": {},
   "outputs": [
    {
     "name": "stdout",
     "output_type": "stream",
     "text": [
      "\u001b[1m \u001b[32m\n",
      "Hasil penjumlahan matriks A dan B:\n",
      "[[30 17 20]\n",
      " [43 65 51]\n",
      " [ 9 26 29]]\n",
      "\u001b[1m \u001b[33m\n",
      "Hasil perkalian matriks A dan B:\n",
      "[[ 444  600  796]\n",
      " [ 755 1052 1187]\n",
      " [ 725 1032 1237]]\n",
      "\u001b[1m \u001b[34m\n",
      "Hasil pembagian matriks A dan B:\n",
      "[[2.75       0.88888889 1.        ]\n",
      " [0.38709677 0.47727273 0.08510638]\n",
      " [3.5        4.2        0.45      ]]\n",
      "\u001b[1m \u001b[35m\n",
      "Hasil operasi 3A-2B:\n",
      "[[ 50   6  10]\n",
      " [-26 -25 -82]\n",
      " [ 17  53 -13]]\n",
      "\u001b[1m \u001b[36m\n",
      "Hasil penambahan 100 pada skalar matriks A:\n",
      "[[122 108 110]\n",
      " [112 121 104]\n",
      " [107 121 109]]\n",
      "\u001b[1m \u001b[31m\n",
      "Hasil pemangkatan matriks A dengan pangkat 3:\n",
      "[[10648   512  1000]\n",
      " [ 1728  9261    64]\n",
      " [  343  9261   729]]\n",
      "\u001b[1m \u001b[32m\n",
      "Hasil akar pangkat 2 dari matriks A:\n",
      "[[4.69041576 2.82842712 3.16227766]\n",
      " [3.46410162 4.58257569 2.        ]\n",
      " [2.64575131 4.58257569 3.        ]]\n"
     ]
    }
   ],
   "source": [
    "import numpy as np\n",
    "\n",
    "# definisikan matriks A dan B dengan ukuran 3x3\n",
    "A = np.array([[22, 8, 10], [12, 21, 4], [7, 21, 9]])\n",
    "B = np.array([[8, 9, 10], [31, 44, 47], [2, 5, 20]])\n",
    "\n",
    "# penjumlahan matriks\n",
    "penjumlahan = np.add(A, B)\n",
    "print('\\033[1m', '\\33[32m')\n",
    "print(\"Hasil penjumlahan matriks A dan B:\")\n",
    "print(penjumlahan)\n",
    "\n",
    "# perkalian matriks\n",
    "perkalian = np.matmul(A, B)\n",
    "print('\\033[1m', '\\33[33m')\n",
    "print(\"Hasil perkalian matriks A dan B:\")\n",
    "print(perkalian)\n",
    "\n",
    "# pembagian matriks\n",
    "pembagian = np.divide(A, B)\n",
    "print('\\033[1m', '\\33[34m')\n",
    "print(\"Hasil pembagian matriks A dan B:\")\n",
    "print(pembagian)\n",
    "\n",
    "# 3A-2B\n",
    "operasi = np.subtract(np.multiply(3, A), np.multiply(2, B))\n",
    "print('\\033[1m', '\\33[35m')\n",
    "print(\"Hasil operasi 3A-2B:\")\n",
    "print(operasi)\n",
    "\n",
    "# tambahkan 100 pada scalar matriks A\n",
    "skalar = np.add(A, 100)\n",
    "print('\\033[1m', '\\33[36m')\n",
    "print(\"Hasil penambahan 100 pada skalar matriks A:\")\n",
    "print(skalar)\n",
    "\n",
    "# A dipangkatkan 3\n",
    "pangkat = np.power(A, 3)\n",
    "print('\\033[1m', '\\33[31m')\n",
    "print(\"Hasil pemangkatan matriks A dengan pangkat 3:\")\n",
    "print(pangkat)\n",
    "\n",
    "# akar pangkat dari A\n",
    "akar = np.sqrt(A)\n",
    "print('\\033[1m', '\\33[32m')\n",
    "print(\"Hasil akar pangkat 2 dari matriks A:\")\n",
    "print(akar)"
   ]
  },
  {
   "cell_type": "code",
   "execution_count": null,
   "id": "3681f8cf-9c5d-4cbb-ad94-48f02665d2fb",
   "metadata": {},
   "outputs": [],
   "source": []
  }
 ],
 "metadata": {
  "kernelspec": {
   "display_name": "Python 3 (ipykernel)",
   "language": "python",
   "name": "python3"
  },
  "language_info": {
   "codemirror_mode": {
    "name": "ipython",
    "version": 3
   },
   "file_extension": ".py",
   "mimetype": "text/x-python",
   "name": "python",
   "nbconvert_exporter": "python",
   "pygments_lexer": "ipython3",
   "version": "3.9.12"
  }
 },
 "nbformat": 4,
 "nbformat_minor": 5
}
