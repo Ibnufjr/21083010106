{
  "nbformat": 4,
  "nbformat_minor": 0,
  "metadata": {
    "colab": {
      "provenance": []
    },
    "kernelspec": {
      "name": "python3",
      "display_name": "Python 3"
    },
    "language_info": {
      "name": "python"
    }
  },
  "cells": [
    {
      "cell_type": "code",
      "execution_count": 8,
      "metadata": {
        "id": "wmEIy8PRgx5H",
        "colab": {
          "base_uri": "https://localhost:8080/"
        },
        "outputId": "c91ceb62-6029-45ab-cca9-330d4d17a11b"
      },
      "outputs": [
        {
          "output_type": "stream",
          "name": "stdout",
          "text": [
            "Looking in indexes: https://pypi.org/simple, https://us-python.pkg.dev/colab-wheels/public/simple/\n",
            "Requirement already satisfied: pyspark in /usr/local/lib/python3.10/dist-packages (3.4.0)\n",
            "Requirement already satisfied: py4j==0.10.9.7 in /usr/local/lib/python3.10/dist-packages (from pyspark) (0.10.9.7)\n",
            "Looking in indexes: https://pypi.org/simple, https://us-python.pkg.dev/colab-wheels/public/simple/\n",
            "Collecting koalas\n",
            "  Downloading koalas-0.32.0-py3-none-any.whl (593 kB)\n",
            "\u001b[2K     \u001b[90m━━━━━━━━━━━━━━━━━━━━━━━━━━━━━━━━━━━━━━\u001b[0m \u001b[32m593.2/593.2 kB\u001b[0m \u001b[31m21.0 MB/s\u001b[0m eta \u001b[36m0:00:00\u001b[0m\n",
            "\u001b[?25hRequirement already satisfied: pyarrow>=0.10 in /usr/local/lib/python3.10/dist-packages (from koalas) (9.0.0)\n",
            "Requirement already satisfied: pandas>=0.23.2 in /usr/local/lib/python3.10/dist-packages (from koalas) (1.5.3)\n",
            "Requirement already satisfied: numpy>=1.14 in /usr/local/lib/python3.10/dist-packages (from koalas) (1.22.4)\n",
            "Requirement already satisfied: matplotlib>=3.0.0 in /usr/local/lib/python3.10/dist-packages (from koalas) (3.7.1)\n",
            "Requirement already satisfied: python-dateutil>=2.7 in /usr/local/lib/python3.10/dist-packages (from matplotlib>=3.0.0->koalas) (2.8.2)\n",
            "Requirement already satisfied: pillow>=6.2.0 in /usr/local/lib/python3.10/dist-packages (from matplotlib>=3.0.0->koalas) (8.4.0)\n",
            "Requirement already satisfied: packaging>=20.0 in /usr/local/lib/python3.10/dist-packages (from matplotlib>=3.0.0->koalas) (23.1)\n",
            "Requirement already satisfied: fonttools>=4.22.0 in /usr/local/lib/python3.10/dist-packages (from matplotlib>=3.0.0->koalas) (4.39.3)\n",
            "Requirement already satisfied: cycler>=0.10 in /usr/local/lib/python3.10/dist-packages (from matplotlib>=3.0.0->koalas) (0.11.0)\n",
            "Requirement already satisfied: contourpy>=1.0.1 in /usr/local/lib/python3.10/dist-packages (from matplotlib>=3.0.0->koalas) (1.0.7)\n",
            "Requirement already satisfied: pyparsing>=2.3.1 in /usr/local/lib/python3.10/dist-packages (from matplotlib>=3.0.0->koalas) (3.0.9)\n",
            "Requirement already satisfied: kiwisolver>=1.0.1 in /usr/local/lib/python3.10/dist-packages (from matplotlib>=3.0.0->koalas) (1.4.4)\n",
            "Requirement already satisfied: pytz>=2020.1 in /usr/local/lib/python3.10/dist-packages (from pandas>=0.23.2->koalas) (2022.7.1)\n",
            "Requirement already satisfied: six>=1.5 in /usr/local/lib/python3.10/dist-packages (from python-dateutil>=2.7->matplotlib>=3.0.0->koalas) (1.16.0)\n",
            "Installing collected packages: koalas\n",
            "Successfully installed koalas-0.32.0\n"
          ]
        }
      ],
      "source": [
        "!pip install pyspark\n",
        "!pip install koalas\n"
      ]
    },
    {
      "cell_type": "code",
      "source": [
        "from google.colab import drive\n",
        "drive.mount('/content/drive')\n"
      ],
      "metadata": {
        "colab": {
          "base_uri": "https://localhost:8080/"
        },
        "id": "7AWDntoPhRlS",
        "outputId": "a3eb0344-c1c2-4c07-94b0-5c5d0f7943ac"
      },
      "execution_count": 10,
      "outputs": [
        {
          "output_type": "stream",
          "name": "stdout",
          "text": [
            "Drive already mounted at /content/drive; to attempt to forcibly remount, call drive.mount(\"/content/drive\", force_remount=True).\n"
          ]
        }
      ]
    },
    {
      "cell_type": "code",
      "source": [
        "from pyspark.sql import SparkSession\n",
        "from pyspark.ml.feature import Tokenizer, CountVectorizer, IDF\n",
        "from pyspark.ml.regression import LinearRegression\n",
        "from pyspark.ml.evaluation import RegressionEvaluator\n"
      ],
      "metadata": {
        "id": "ELO6ziiliOsu"
      },
      "execution_count": 11,
      "outputs": []
    },
    {
      "cell_type": "code",
      "source": [
        "spark = SparkSession.builder.appName(\"Automatic Essay Scoring\").getOrCreate()\n"
      ],
      "metadata": {
        "id": "X5g4krZjinDb"
      },
      "execution_count": 12,
      "outputs": []
    },
    {
      "cell_type": "code",
      "source": [
        "df = spark.read.csv('/content/drive/My Drive/training_data_essay.csv', header=True, inferSchema=True)\n"
      ],
      "metadata": {
        "id": "1NJFSyTUiqng"
      },
      "execution_count": 13,
      "outputs": []
    },
    {
      "cell_type": "code",
      "source": [
        "df.printSchema()\n",
        "df.show()\n"
      ],
      "metadata": {
        "colab": {
          "base_uri": "https://localhost:8080/"
        },
        "id": "DIURzN9fixtP",
        "outputId": "cb14642c-96cd-442b-9367-456415bd9e18"
      },
      "execution_count": 14,
      "outputs": [
        {
          "output_type": "stream",
          "name": "stdout",
          "text": [
            "root\n",
            " |-- npm: integer (nullable = true)\n",
            " |-- nama_peserta: string (nullable = true)\n",
            " |-- jawaban: string (nullable = true)\n",
            " |-- soal: integer (nullable = true)\n",
            " |-- skor_per_soal: double (nullable = true)\n",
            "\n",
            "+----------+------------+--------------------+----+-------------+\n",
            "|       npm|nama_peserta|             jawaban|soal|skor_per_soal|\n",
            "+----------+------------+--------------------+----+-------------+\n",
            "|         0|       Admin|Tidak, Hanya memb...|   1|        100.0|\n",
            "|         0|       Admin|Biaya dihitung be...|   2|        100.0|\n",
            "|         0|       Admin|Hak cipta adalah ...|   3|        100.0|\n",
            "|         0|       Admin|Dijelaskan kepada...|   4|        100.0|\n",
            "|         0|       Admin|1. Melindungi dan...|   5|        100.0|\n",
            "|         0|       Admin|Ruang Komputer, P...|   6|        100.0|\n",
            "|         0|       Admin|Aturlah posisi pe...|   7|        100.0|\n",
            "|         0|       Admin|Posisi Kepala dan...|   8|        100.0|\n",
            "|         0|       Admin|1. Kecocokan soft...|   9|        100.0|\n",
            "|         0|       Admin|1. Fokus dan expo...|  10|        100.0|\n",
            "|         0|       Admin|1. Peralatan yang...|  11|        100.0|\n",
            "|         0|       Admin|1. Dibuat grafik ...|  12|        100.0|\n",
            "|1121020033|          AP|tidak, cuma mengi...|   1|         52.7|\n",
            "|1121020033|          AP|biaya dihitung be...|   2|        42.86|\n",
            "|1121020033|          AP|hak membuat merup...|   3|        42.16|\n",
            "|1121020033|          AP|dipaparkan pada k...|   4|        27.19|\n",
            "|1121020033|          AP|1. mencegah serta...|   5|        44.14|\n",
            "|1121020033|          AP|ruang komputer, p...|   6|        100.0|\n",
            "|1121020033|          AP|aturlah posisi fi...|   7|        57.68|\n",
            "|1121020033|          AP|posisi kepala ser...|   8|        45.71|\n",
            "+----------+------------+--------------------+----+-------------+\n",
            "only showing top 20 rows\n",
            "\n"
          ]
        }
      ]
    },
    {
      "cell_type": "code",
      "source": [
        "df = df.drop('npm', 'skor_per_soal')\n"
      ],
      "metadata": {
        "id": "WS5-mGKwkcym"
      },
      "execution_count": 16,
      "outputs": []
    },
    {
      "cell_type": "code",
      "source": [
        "from pyspark.ml.feature import StringIndexer\n",
        "indexer = StringIndexer(inputCol='soal', outputCol='skor_per_soal')\n",
        "df = indexer.fit(df).transform(df)\n"
      ],
      "metadata": {
        "id": "0nzPd8UWlun9"
      },
      "execution_count": 20,
      "outputs": []
    },
    {
      "cell_type": "code",
      "source": [
        "from pyspark.ml.feature import Tokenizer, StopWordsRemover\n",
        "from pyspark.ml.feature import HashingTF, IDF\n",
        "\n",
        "# Tokenize the essay text\n",
        "tokenizer = Tokenizer(inputCol='jawaban', outputCol='words')\n",
        "df = tokenizer.transform(df)\n",
        "\n",
        "# Remove stop words\n",
        "stop_words = StopWordsRemover(inputCol='words', outputCol='filtered_words')\n",
        "df = stop_words.transform(df)\n",
        "\n",
        "# Apply TF-IDF\n",
        "hashingTF = HashingTF(inputCol='filtered_words', outputCol='raw_features', numFeatures=10000)\n",
        "featurized_data = hashingTF.transform(df)\n",
        "idf = IDF(inputCol='raw_features', outputCol='features')\n",
        "idf_model = idf.fit(featurized_data)\n",
        "df = idf_model.transform(featurized_data)\n"
      ],
      "metadata": {
        "id": "p5E61dHwmndE"
      },
      "execution_count": 21,
      "outputs": []
    },
    {
      "cell_type": "code",
      "source": [
        "(trainingData, testData) = df.randomSplit([0.8, 0.2], seed=42)\n"
      ],
      "metadata": {
        "id": "75nvD5CPnRLO"
      },
      "execution_count": 22,
      "outputs": []
    },
    {
      "cell_type": "code",
      "source": [
        "from pyspark.ml.classification import RandomForestClassifier\n",
        "\n",
        "rf = RandomForestClassifier(labelCol='skor_per_soal', featuresCol='features', numTrees=10)\n",
        "model = rf.fit(trainingData)\n"
      ],
      "metadata": {
        "id": "9-100kAhnZMk"
      },
      "execution_count": 26,
      "outputs": []
    },
    {
      "cell_type": "code",
      "source": [
        "from pyspark.ml.evaluation import MulticlassClassificationEvaluator\n",
        "\n",
        "predictions = model.transform(testData)\n",
        "evaluator = MulticlassClassificationEvaluator(labelCol='skor_per_soal', predictionCol='prediction', metricName='accuracy')\n",
        "accuracy = evaluator.evaluate(predictions)\n",
        "print('Accuracy:', accuracy)\n"
      ],
      "metadata": {
        "colab": {
          "base_uri": "https://localhost:8080/"
        },
        "id": "pevCY4GWnkVE",
        "outputId": "6c549d89-33f5-4f0e-cf3d-d976fcfa8cc6"
      },
      "execution_count": 27,
      "outputs": [
        {
          "output_type": "stream",
          "name": "stdout",
          "text": [
            "Accuracy: 0.9545454545454546\n"
          ]
        }
      ]
    },
    {
      "cell_type": "code",
      "source": [],
      "metadata": {
        "id": "hC9Ak6den-7T"
      },
      "execution_count": null,
      "outputs": []
    }
  ]
}